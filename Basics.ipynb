{
 "cells": [
  {
   "cell_type": "markdown",
   "metadata": {
    "collapsed": true
   },
   "source": [
    "# Answering Business Questions using SQL\n",
    "\n",
    "The Chinook database contains information about a fictional digital music shop - kind of like a mini-iTunes store. In this project, a modified version of a database called Chinook will be analysed to answer some business questions, such as:\n",
    "\n",
    "- Which album should the company promote first?\n",
    "- How is the performance of the sales support agent?\n",
    "- How is the sales in different country? Is there any potential market?\n",
    "- What is the ratio of album purchase and non-album purchase?\n",
    "\n",
    "\n",
    "## Summary of results\n",
    "- For the four genres we want to investigate, Hip-Hop, Punk, Pop, Blues, Punk tracks sell the best in the USA, following by Blues, Pop, and finally Hip Hop tracks. It seems like a good option to select the Punk album to promote first.\n",
    "- The sales performance of three Sales Support Agents are even.\n",
    "- USA is the biggest market, with 13 customer and 1040 USD sales in total.\n",
    "- Czech Republic has the highest average sales per customer and average order value.\n",
    "- Czech Republic and India could be the potential markets, since they have average sales per customer and average order value. But the amount of data is relatively low, the result may not be conclusive.\n",
    "- Non-album purchase contributed 80% of the purchases.\n"
   ]
  },
  {
   "cell_type": "markdown",
   "metadata": {},
   "source": [
    "## Connecting to the database file "
   ]
  },
  {
   "cell_type": "code",
   "execution_count": 2,
   "metadata": {
    "collapsed": false
   },
   "outputs": [
    {
     "data": {
      "text/plain": [
       "'Connected: None@chinook.db'"
      ]
     },
     "execution_count": 2,
     "metadata": {},
     "output_type": "execute_result"
    }
   ],
   "source": [
    "%%capture\n",
    "%load_ext sql\n",
    "%sql sqlite:///chinook.db"
   ]
  },
  {
   "cell_type": "markdown",
   "metadata": {},
   "source": [
    "## Overview of the data"
   ]
  },
  {
   "cell_type": "code",
   "execution_count": 3,
   "metadata": {
    "collapsed": false
   },
   "outputs": [
    {
     "name": "stdout",
     "output_type": "stream",
     "text": [
      "Done.\n"
     ]
    },
    {
     "data": {
      "text/html": [
       "<table>\n",
       "    <tr>\n",
       "        <th>name</th>\n",
       "        <th>type</th>\n",
       "    </tr>\n",
       "    <tr>\n",
       "        <td>album</td>\n",
       "        <td>table</td>\n",
       "    </tr>\n",
       "    <tr>\n",
       "        <td>artist</td>\n",
       "        <td>table</td>\n",
       "    </tr>\n",
       "    <tr>\n",
       "        <td>customer</td>\n",
       "        <td>table</td>\n",
       "    </tr>\n",
       "    <tr>\n",
       "        <td>employee</td>\n",
       "        <td>table</td>\n",
       "    </tr>\n",
       "    <tr>\n",
       "        <td>genre</td>\n",
       "        <td>table</td>\n",
       "    </tr>\n",
       "    <tr>\n",
       "        <td>invoice</td>\n",
       "        <td>table</td>\n",
       "    </tr>\n",
       "    <tr>\n",
       "        <td>invoice_line</td>\n",
       "        <td>table</td>\n",
       "    </tr>\n",
       "    <tr>\n",
       "        <td>media_type</td>\n",
       "        <td>table</td>\n",
       "    </tr>\n",
       "    <tr>\n",
       "        <td>playlist</td>\n",
       "        <td>table</td>\n",
       "    </tr>\n",
       "    <tr>\n",
       "        <td>playlist_track</td>\n",
       "        <td>table</td>\n",
       "    </tr>\n",
       "    <tr>\n",
       "        <td>track</td>\n",
       "        <td>table</td>\n",
       "    </tr>\n",
       "</table>"
      ],
      "text/plain": [
       "[('album', 'table'),\n",
       " ('artist', 'table'),\n",
       " ('customer', 'table'),\n",
       " ('employee', 'table'),\n",
       " ('genre', 'table'),\n",
       " ('invoice', 'table'),\n",
       " ('invoice_line', 'table'),\n",
       " ('media_type', 'table'),\n",
       " ('playlist', 'table'),\n",
       " ('playlist_track', 'table'),\n",
       " ('track', 'table')]"
      ]
     },
     "execution_count": 3,
     "metadata": {},
     "output_type": "execute_result"
    }
   ],
   "source": [
    "%%sql\n",
    "\n",
    "SELECT\n",
    "    name,\n",
    "    type\n",
    "FROM sqlite_master\n",
    "WHERE type IN ('table','vuew');"
   ]
  },
  {
   "cell_type": "markdown",
   "metadata": {},
   "source": [
    "There are 11 tables in the file."
   ]
  },
  {
   "cell_type": "markdown",
   "metadata": {},
   "source": [
    "## Selecting New Albums to Purchase\n",
    "\n",
    "The Chinook record store has just signed a deal with a new record label, they have to select the first albums that will be added to the store, from a list of four. All four albums are by artists that don't have any tracks in the store right now. So it will be decided by the sales of diferent genres.\n",
    "\n",
    "| Artist Name        | Genre |\n",
    "|--------------------|-------|\n",
    "|    Regal           |Hip-Hop|\n",
    "|  Red Tone          | Punk  |\n",
    "|Meteor and the Girls|Pop    |\n",
    "|Slim Jim Bites      | Blues |\n",
    "\n",
    "In this session, the selling records will be analysed and find out this one of the following four genres (Hip-Hop, Punk, Pop, Blues) sells the best in the USA market."
   ]
  },
  {
   "cell_type": "code",
   "execution_count": 4,
   "metadata": {
    "collapsed": false
   },
   "outputs": [
    {
     "name": "stdout",
     "output_type": "stream",
     "text": [
      "Done.\n"
     ]
    },
    {
     "data": {
      "text/html": [
       "<table>\n",
       "    <tr>\n",
       "        <th>genre</th>\n",
       "        <th>track_sold</th>\n",
       "        <th>precentage_sold</th>\n",
       "    </tr>\n",
       "    <tr>\n",
       "        <td>Rock</td>\n",
       "        <td>561</td>\n",
       "        <td>0.5337773549000951</td>\n",
       "    </tr>\n",
       "    <tr>\n",
       "        <td>Alternative &amp; Punk</td>\n",
       "        <td>130</td>\n",
       "        <td>0.12369172216936251</td>\n",
       "    </tr>\n",
       "    <tr>\n",
       "        <td>Metal</td>\n",
       "        <td>124</td>\n",
       "        <td>0.11798287345385347</td>\n",
       "    </tr>\n",
       "    <tr>\n",
       "        <td>R&amp;B/Soul</td>\n",
       "        <td>53</td>\n",
       "        <td>0.05042816365366318</td>\n",
       "    </tr>\n",
       "    <tr>\n",
       "        <td>Blues</td>\n",
       "        <td>36</td>\n",
       "        <td>0.03425309229305423</td>\n",
       "    </tr>\n",
       "    <tr>\n",
       "        <td>Alternative</td>\n",
       "        <td>35</td>\n",
       "        <td>0.03330161750713606</td>\n",
       "    </tr>\n",
       "    <tr>\n",
       "        <td>Latin</td>\n",
       "        <td>22</td>\n",
       "        <td>0.02093244529019981</td>\n",
       "    </tr>\n",
       "    <tr>\n",
       "        <td>Pop</td>\n",
       "        <td>22</td>\n",
       "        <td>0.02093244529019981</td>\n",
       "    </tr>\n",
       "    <tr>\n",
       "        <td>Hip Hop/Rap</td>\n",
       "        <td>20</td>\n",
       "        <td>0.019029495718363463</td>\n",
       "    </tr>\n",
       "    <tr>\n",
       "        <td>Jazz</td>\n",
       "        <td>14</td>\n",
       "        <td>0.013320647002854425</td>\n",
       "    </tr>\n",
       "    <tr>\n",
       "        <td>Easy Listening</td>\n",
       "        <td>13</td>\n",
       "        <td>0.012369172216936251</td>\n",
       "    </tr>\n",
       "    <tr>\n",
       "        <td>Reggae</td>\n",
       "        <td>6</td>\n",
       "        <td>0.005708848715509039</td>\n",
       "    </tr>\n",
       "    <tr>\n",
       "        <td>Electronica/Dance</td>\n",
       "        <td>5</td>\n",
       "        <td>0.004757373929590866</td>\n",
       "    </tr>\n",
       "    <tr>\n",
       "        <td>Classical</td>\n",
       "        <td>4</td>\n",
       "        <td>0.003805899143672693</td>\n",
       "    </tr>\n",
       "    <tr>\n",
       "        <td>Heavy Metal</td>\n",
       "        <td>3</td>\n",
       "        <td>0.0028544243577545195</td>\n",
       "    </tr>\n",
       "    <tr>\n",
       "        <td>Soundtrack</td>\n",
       "        <td>2</td>\n",
       "        <td>0.0019029495718363464</td>\n",
       "    </tr>\n",
       "    <tr>\n",
       "        <td>TV Shows</td>\n",
       "        <td>1</td>\n",
       "        <td>0.0009514747859181732</td>\n",
       "    </tr>\n",
       "</table>"
      ],
      "text/plain": [
       "[('Rock', 561, 0.5337773549000951),\n",
       " ('Alternative & Punk', 130, 0.12369172216936251),\n",
       " ('Metal', 124, 0.11798287345385347),\n",
       " ('R&B/Soul', 53, 0.05042816365366318),\n",
       " ('Blues', 36, 0.03425309229305423),\n",
       " ('Alternative', 35, 0.03330161750713606),\n",
       " ('Latin', 22, 0.02093244529019981),\n",
       " ('Pop', 22, 0.02093244529019981),\n",
       " ('Hip Hop/Rap', 20, 0.019029495718363463),\n",
       " ('Jazz', 14, 0.013320647002854425),\n",
       " ('Easy Listening', 13, 0.012369172216936251),\n",
       " ('Reggae', 6, 0.005708848715509039),\n",
       " ('Electronica/Dance', 5, 0.004757373929590866),\n",
       " ('Classical', 4, 0.003805899143672693),\n",
       " ('Heavy Metal', 3, 0.0028544243577545195),\n",
       " ('Soundtrack', 2, 0.0019029495718363464),\n",
       " ('TV Shows', 1, 0.0009514747859181732)]"
      ]
     },
     "execution_count": 4,
     "metadata": {},
     "output_type": "execute_result"
    }
   ],
   "source": [
    "%%sql\n",
    "\n",
    "WITH invoices_us AS\n",
    "        (\n",
    "         SELECT i.* FROM invoice i\n",
    "         LEFT JOIN customer c ON i.customer_id = c.customer_id\n",
    "         WHERE c.country == 'USA'\n",
    "        ),\n",
    "      genre_us AS\n",
    "        (\n",
    "         SELECT \n",
    "                invoices_us.*,\n",
    "                il.quantity,\n",
    "                g.name genre\n",
    "         FROM invoices_us\n",
    "         LEFT JOIN invoice_line il ON invoices_us.invoice_id = il.invoice_id\n",
    "         LEFT JOIN track t ON il.track_id = t.track_id\n",
    "         LEFT JOIN genre g ON t.genre_id = g.genre_id\n",
    "        )\n",
    "        \n",
    "SELECT \n",
    "        genre,\n",
    "        SUM(quantity) track_sold,\n",
    "        CAST(SUM(quantity) AS FLOAT) / (\n",
    "        SELECT COUNT(*) FROM genre_us\n",
    "        ) precentage_sold\n",
    "FROM genre_us\n",
    "GROUP BY genre\n",
    "ORDER BY precentage_sold DESC;"
   ]
  },
  {
   "cell_type": "markdown",
   "metadata": {},
   "source": [
    "The best selling genre in the USA is Rock, more the half of the tracks sold in the USA market are 'Rock' tracks. Following is 'Alternative & Punk', which is about 12%, and 'Metal', which is slightly lower than 12%.\n",
    "For the four genres we want to investigate, Hip-Hop, Punk, Pop, Blues, Punk tracks sell the best in the USA, following by Blues, Pop, and finally Hip Hop tracks. It seems like a good option to select the Punk album to promote first."
   ]
  },
  {
   "cell_type": "markdown",
   "metadata": {},
   "source": [
    "## Analyzing Employee Sales Performance\n",
    "In this session, the sales perforamance will be analysed, according to their sales amount, sales quantity and number of customer."
   ]
  },
  {
   "cell_type": "code",
   "execution_count": 5,
   "metadata": {
    "collapsed": false
   },
   "outputs": [
    {
     "name": "stdout",
     "output_type": "stream",
     "text": [
      "Done.\n"
     ]
    },
    {
     "data": {
      "text/html": [
       "<table>\n",
       "    <tr>\n",
       "        <th>employee_id</th>\n",
       "        <th>employee_name</th>\n",
       "        <th>hire_date</th>\n",
       "        <th>customer_num</th>\n",
       "        <th>total_sales</th>\n",
       "    </tr>\n",
       "    <tr>\n",
       "        <td>3</td>\n",
       "        <td>Jane Peacock</td>\n",
       "        <td>2017-04-01 00:00:00</td>\n",
       "        <td>212</td>\n",
       "        <td>1731.5</td>\n",
       "    </tr>\n",
       "    <tr>\n",
       "        <td>4</td>\n",
       "        <td>Margaret Park</td>\n",
       "        <td>2017-05-03 00:00:00</td>\n",
       "        <td>214</td>\n",
       "        <td>1584.0</td>\n",
       "    </tr>\n",
       "    <tr>\n",
       "        <td>5</td>\n",
       "        <td>Steve Johnson</td>\n",
       "        <td>2017-10-17 00:00:00</td>\n",
       "        <td>188</td>\n",
       "        <td>1393.9</td>\n",
       "    </tr>\n",
       "</table>"
      ],
      "text/plain": [
       "[(3, 'Jane Peacock', '2017-04-01 00:00:00', 212, 1731.5),\n",
       " (4, 'Margaret Park', '2017-05-03 00:00:00', 214, 1584.0),\n",
       " (5, 'Steve Johnson', '2017-10-17 00:00:00', 188, 1393.9)]"
      ]
     },
     "execution_count": 5,
     "metadata": {},
     "output_type": "execute_result"
    }
   ],
   "source": [
    "%%sql\n",
    "\n",
    "SELECT\n",
    "        e.employee_id,\n",
    "        e.first_name || ' ' || e.last_name employee_name,\n",
    "        e.hire_date,\n",
    "        COUNT(c.customer_id) customer_num,\n",
    "        ROUND(SUM(i.total), 1) total_sales\n",
    "FROM employee e\n",
    "LEFT JOIN customer c ON e.employee_id = c.support_rep_id\n",
    "LEFT JOIN invoice i ON c.customer_id = i.customer_id\n",
    "WHERE e.title == 'Sales Support Agent'\n",
    "GROUP BY 1"
   ]
  },
  {
   "cell_type": "markdown",
   "metadata": {},
   "source": [
    "Margaret Park served the highest number of customer (214) and Jane Peacock has the highest sales. Steve Johnson has relative low customer number and total sales amount, but it's understandable due to his late join date. We can conclude that the sales performance of three Sales Support Agents are even."
   ]
  },
  {
   "cell_type": "markdown",
   "metadata": {},
   "source": [
    "## Analyzing Sales by Country\n",
    "In this session, the sales value is analysed by country. For each country, the following values will be calculated.\n",
    "- total number of customers\n",
    "- total value of sales\n",
    "- average value of sales per customer\n",
    "- average order value\n",
    "\n",
    "Counties with only one customer will be grouped as 'Others'"
   ]
  },
  {
   "cell_type": "code",
   "execution_count": 6,
   "metadata": {
    "collapsed": false
   },
   "outputs": [
    {
     "name": "stdout",
     "output_type": "stream",
     "text": [
      "Done.\n"
     ]
    },
    {
     "data": {
      "text/html": [
       "<table>\n",
       "    <tr>\n",
       "        <th>country</th>\n",
       "        <th>customer</th>\n",
       "        <th>total_sales</th>\n",
       "        <th>avg_sales_per_customer</th>\n",
       "        <th>avg_order_value</th>\n",
       "    </tr>\n",
       "    <tr>\n",
       "        <td>USA</td>\n",
       "        <td>13</td>\n",
       "        <td>1040.49</td>\n",
       "        <td>80.04</td>\n",
       "        <td>7.94</td>\n",
       "    </tr>\n",
       "    <tr>\n",
       "        <td>Canada</td>\n",
       "        <td>8</td>\n",
       "        <td>535.59</td>\n",
       "        <td>66.95</td>\n",
       "        <td>7.05</td>\n",
       "    </tr>\n",
       "    <tr>\n",
       "        <td>Brazil</td>\n",
       "        <td>5</td>\n",
       "        <td>427.68</td>\n",
       "        <td>85.54</td>\n",
       "        <td>7.01</td>\n",
       "    </tr>\n",
       "    <tr>\n",
       "        <td>France</td>\n",
       "        <td>5</td>\n",
       "        <td>389.07</td>\n",
       "        <td>77.81</td>\n",
       "        <td>7.78</td>\n",
       "    </tr>\n",
       "    <tr>\n",
       "        <td>Germany</td>\n",
       "        <td>4</td>\n",
       "        <td>334.62</td>\n",
       "        <td>83.65</td>\n",
       "        <td>8.16</td>\n",
       "    </tr>\n",
       "    <tr>\n",
       "        <td>United Kingdom</td>\n",
       "        <td>3</td>\n",
       "        <td>245.52</td>\n",
       "        <td>81.84</td>\n",
       "        <td>8.77</td>\n",
       "    </tr>\n",
       "    <tr>\n",
       "        <td>Czech Republic</td>\n",
       "        <td>2</td>\n",
       "        <td>273.24</td>\n",
       "        <td>136.62</td>\n",
       "        <td>9.11</td>\n",
       "    </tr>\n",
       "    <tr>\n",
       "        <td>India</td>\n",
       "        <td>2</td>\n",
       "        <td>183.15</td>\n",
       "        <td>91.57</td>\n",
       "        <td>8.72</td>\n",
       "    </tr>\n",
       "    <tr>\n",
       "        <td>Portugal</td>\n",
       "        <td>2</td>\n",
       "        <td>185.13</td>\n",
       "        <td>92.56</td>\n",
       "        <td>6.38</td>\n",
       "    </tr>\n",
       "    <tr>\n",
       "        <td>Others</td>\n",
       "        <td>15</td>\n",
       "        <td>1094.94</td>\n",
       "        <td>73.0</td>\n",
       "        <td>7.45</td>\n",
       "    </tr>\n",
       "</table>"
      ],
      "text/plain": [
       "[('USA', 13, 1040.49, 80.04, 7.94),\n",
       " ('Canada', 8, 535.59, 66.95, 7.05),\n",
       " ('Brazil', 5, 427.68, 85.54, 7.01),\n",
       " ('France', 5, 389.07, 77.81, 7.78),\n",
       " ('Germany', 4, 334.62, 83.65, 8.16),\n",
       " ('United Kingdom', 3, 245.52, 81.84, 8.77),\n",
       " ('Czech Republic', 2, 273.24, 136.62, 9.11),\n",
       " ('India', 2, 183.15, 91.57, 8.72),\n",
       " ('Portugal', 2, 185.13, 92.56, 6.38),\n",
       " ('Others', 15, 1094.94, 73.0, 7.45)]"
      ]
     },
     "execution_count": 6,
     "metadata": {},
     "output_type": "execute_result"
    }
   ],
   "source": [
    "%%sql\n",
    "WITH country_with_others AS\n",
    "         (\n",
    "          SELECT\n",
    "                  c.*,\n",
    "                  CASE\n",
    "                     WHEN \n",
    "                         (\n",
    "                          SELECT count(*) \n",
    "                          FROM customer\n",
    "                          WHERE country = c.country\n",
    "                         ) = 1 THEN 'Others' \n",
    "                     ELSE c.country\n",
    "                  END AS country_reviewed\n",
    "                  FROM customer c\n",
    "         ),\n",
    "    \n",
    "     country_sales AS\n",
    "         (\n",
    "          SELECT\n",
    "                 cwo.country_reviewed country,\n",
    "                 COUNT(distinct cwo.customer_id) customer,\n",
    "                 ROUND(SUM(i.total), 2) total_sales,\n",
    "                 ROUND(SUM(i.total) / COUNT(distinct cwo.customer_id), 2) avg_sales_per_customer,\n",
    "                 ROUND(SUM(i.total) / COUNT(distinct i.invoice_id), 2) avg_order_value\n",
    "                 FROM country_with_others cwo\n",
    "                 LEFT JOIN invoice i ON cwo.customer_id = i.customer_id\n",
    "                 GROUP BY cwo.country_reviewed\n",
    "                 ORDER BY customer DESC\n",
    "         ),\n",
    "            \n",
    "     country_sales_sorted AS\n",
    "         (\n",
    "          SELECT\n",
    "                 *,\n",
    "                 CASE\n",
    "                     WHEN country = 'Others' THEN 1\n",
    "                     ELSE 0\n",
    "                 END AS sort\n",
    "          FROM country_sales\n",
    "         )\n",
    "        \n",
    "SELECT\n",
    "        country,\n",
    "        customer,\n",
    "        total_sales,\n",
    "        avg_sales_per_customer,\n",
    "        avg_order_value\n",
    "FROM country_sales_sorted\n",
    "ORDER BY sort;\n",
    "        "
   ]
  },
  {
   "cell_type": "markdown",
   "metadata": {},
   "source": [
    "Findings are following:\n",
    "- USA is the biggest market, with 13 customer and 1040 USD sales in total.\n",
    "- Czech Republic has the highest average sales per customer and average order value.\n",
    "- Czech Republic and India could be the potential markets, since they have average sales per customer and average order value. But the amount of data is relatively low, the result may not be conclusive."
   ]
  },
  {
   "cell_type": "markdown",
   "metadata": {},
   "source": [
    "## Albums vs Individual Tracks\n",
    "The Chinook store is setup in a way that allows customer to make purchases in one of the two ways:\n",
    "\n",
    "- purchase a whole album\n",
    "- purchase a collection of one or more individual tracks.\n",
    "\n",
    "The store does not let customers purchase a whole album, and then add individual tracks to that same purchase (unless they do that by choosing each track manually). When customers purchase albums they are charged the same price as if they had purchased each of those tracks separately.\n",
    "\n",
    "In this session, the perchase records will be analysed. The number of album purchase and its percentage will be calculated.\n",
    "\n",
    "In this instance, There are two edge cases to consider:\n",
    "\n",
    "- Albums that have only one or two tracks are likely to be purchased by customers as part of a collection of individual tracks.\n",
    "- Customers may decide to manually select every track from an album, and then add a few individual tracks from other albums to their purchase.\n",
    "\n",
    "In the first case, since the analysis is concerned with maximizing revenue, it's safe to ignore albums consisting of only a few tracks. The company has previously done analysis to confirm that the second case does not happen often, so this case can be ignored also."
   ]
  },
  {
   "cell_type": "code",
   "execution_count": 8,
   "metadata": {
    "collapsed": false
   },
   "outputs": [
    {
     "name": "stdout",
     "output_type": "stream",
     "text": [
      "Done.\n"
     ]
    },
    {
     "data": {
      "text/html": [
       "<table>\n",
       "    <tr>\n",
       "        <th>album_purchase</th>\n",
       "        <th>invoice_num</th>\n",
       "        <th>invoice_percentage</th>\n",
       "    </tr>\n",
       "    <tr>\n",
       "        <td>No</td>\n",
       "        <td>500</td>\n",
       "        <td>0.81</td>\n",
       "    </tr>\n",
       "    <tr>\n",
       "        <td>Yes</td>\n",
       "        <td>114</td>\n",
       "        <td>0.19</td>\n",
       "    </tr>\n",
       "</table>"
      ],
      "text/plain": [
       "[('No', 500, 0.81), ('Yes', 114, 0.19)]"
      ]
     },
     "execution_count": 8,
     "metadata": {},
     "output_type": "execute_result"
    }
   ],
   "source": [
    "%%sql\n",
    "\n",
    "WITH invoice_first_track AS\n",
    "        (\n",
    "         SELECT \n",
    "            invoice_id,\n",
    "            MIN(track_id) first_track\n",
    "         FROM invoice_line \n",
    "         GROUP BY 1\n",
    "        ),\n",
    "    \n",
    "     invoice_with_album_purchase AS\n",
    "        (\n",
    "         SELECT\n",
    "            ift.*,\n",
    "            CASE\n",
    "                WHEN \n",
    "                    (\n",
    "                     SELECT track_id FROM invoice_line il\n",
    "                     WHERE il.invoice_id = ift.invoice_id\n",
    "                     EXCEPT\n",
    "                     SELECT track_id FROM track t\n",
    "                     WHERE t.album_id = (\n",
    "                                         SELECT t2.album_id FROM track t2\n",
    "                                         WHERE ift.first_track = t2.track_id\n",
    "                                        )\n",
    "                    ) IS NULL\n",
    "                \n",
    "                    AND\n",
    "                \n",
    "                    (\n",
    "                     SELECT track_id FROM track t\n",
    "                     WHERE t.album_id = (\n",
    "                                         SELECT t2.album_id FROM track t2\n",
    "                                         WHERE ift.first_track = t2.track_id\n",
    "                                        )\n",
    "                     EXCEPT\n",
    "                     SELECT track_id FROM invoice_line il\n",
    "                     WHERE il.invoice_id = ift.invoice_id\n",
    "                    ) IS NULL\n",
    "                THEN 'Yes'\n",
    "                ELSE 'No'\n",
    "                END AS album_purchase\n",
    "         FROM invoice_first_track ift\n",
    "        )\n",
    "SELECT\n",
    "        album_purchase,\n",
    "        COUNT(invoice_id) invoice_num,\n",
    "        ROUND(CAST(COUNT(invoice_id) AS FLOAT) / (\n",
    "                             SELECT count(*) FROM invoice\n",
    "                            ), 2) invoice_percentage\n",
    "FROM invoice_with_album_purchase\n",
    "GROUP BY 1"
   ]
  },
  {
   "cell_type": "markdown",
   "metadata": {},
   "source": [
    "Non-album purchase contributed 80% of the purchases."
   ]
  },
  {
   "cell_type": "markdown",
   "metadata": {},
   "source": [
    "## Conclusion\n",
    "\n",
    "In this project, the The Chinook data from \n",
    "\n",
    "Which album should the company promote first?\n",
    "How is the performance of the sales support agent?\n",
    "How is the sales in different country? Is there any potential market?\n",
    "What is the ratio of album purchase and non-album purchase?"
   ]
  }
 ],
 "metadata": {
  "kernelspec": {
   "display_name": "Python 3",
   "language": "python",
   "name": "python3"
  },
  "language_info": {
   "codemirror_mode": {
    "name": "ipython",
    "version": 3
   },
   "file_extension": ".py",
   "mimetype": "text/x-python",
   "name": "python",
   "nbconvert_exporter": "python",
   "pygments_lexer": "ipython3",
   "version": "3.4.3"
  }
 },
 "nbformat": 4,
 "nbformat_minor": 2
}
